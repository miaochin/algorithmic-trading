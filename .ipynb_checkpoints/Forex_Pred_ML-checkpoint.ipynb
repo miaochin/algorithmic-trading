{
 "cells": [
  {
   "cell_type": "markdown",
   "metadata": {},
   "source": [
    "# Forex (foriegn exchange) predictions using Machine Learning\n",
    "## Load data"
   ]
  },
  {
   "attachments": {},
   "cell_type": "markdown",
   "metadata": {},
   "source": [
    "<!-- ![Screen%20Shot%202023-04-16%20at%209.08.07%20PM.png](attachment:Screen%20Shot%202023-04-16%20at%209.08.07%20PM.png -->\n",
    "\n",
    "<div>\n",
    "<img src=\"candlestick.png\" width=\"500\"/>\n",
    "</div>"
   ]
  },
  {
   "cell_type": "code",
   "execution_count": 1,
   "metadata": {
    "scrolled": true
   },
   "outputs": [
    {
     "data": {
      "text/html": [
       "<div>\n",
       "<style scoped>\n",
       "    .dataframe tbody tr th:only-of-type {\n",
       "        vertical-align: middle;\n",
       "    }\n",
       "\n",
       "    .dataframe tbody tr th {\n",
       "        vertical-align: top;\n",
       "    }\n",
       "\n",
       "    .dataframe thead th {\n",
       "        text-align: right;\n",
       "    }\n",
       "</style>\n",
       "<table border=\"1\" class=\"dataframe\">\n",
       "  <thead>\n",
       "    <tr style=\"text-align: right;\">\n",
       "      <th></th>\n",
       "      <th>Local time</th>\n",
       "      <th>Open</th>\n",
       "      <th>High</th>\n",
       "      <th>Low</th>\n",
       "      <th>Close</th>\n",
       "      <th>Volume</th>\n",
       "    </tr>\n",
       "  </thead>\n",
       "  <tbody>\n",
       "    <tr>\n",
       "      <th>2393</th>\n",
       "      <td>05.12.2022 06:00:00.000 GMT-0800</td>\n",
       "      <td>1.34242</td>\n",
       "      <td>1.35863</td>\n",
       "      <td>1.34231</td>\n",
       "      <td>1.35785</td>\n",
       "      <td>79103.300000</td>\n",
       "    </tr>\n",
       "    <tr>\n",
       "      <th>2394</th>\n",
       "      <td>05.12.2022 10:00:00.000 GMT-0800</td>\n",
       "      <td>1.35786</td>\n",
       "      <td>1.36064</td>\n",
       "      <td>1.35692</td>\n",
       "      <td>1.35922</td>\n",
       "      <td>44078.930000</td>\n",
       "    </tr>\n",
       "    <tr>\n",
       "      <th>2395</th>\n",
       "      <td>05.12.2022 14:00:00.000 GMT-0800</td>\n",
       "      <td>1.35923</td>\n",
       "      <td>1.35981</td>\n",
       "      <td>1.35718</td>\n",
       "      <td>1.35831</td>\n",
       "      <td>3836.416752</td>\n",
       "    </tr>\n",
       "    <tr>\n",
       "      <th>2396</th>\n",
       "      <td>05.12.2022 18:00:00.000 GMT-0800</td>\n",
       "      <td>1.35831</td>\n",
       "      <td>1.36016</td>\n",
       "      <td>1.35721</td>\n",
       "      <td>1.35861</td>\n",
       "      <td>0.033866</td>\n",
       "    </tr>\n",
       "    <tr>\n",
       "      <th>2397</th>\n",
       "      <td>05.12.2022 22:00:00.000 GMT-0800</td>\n",
       "      <td>1.35860</td>\n",
       "      <td>1.36206</td>\n",
       "      <td>1.35824</td>\n",
       "      <td>1.36093</td>\n",
       "      <td>0.039987</td>\n",
       "    </tr>\n",
       "  </tbody>\n",
       "</table>\n",
       "</div>"
      ],
      "text/plain": [
       "                            Local time     Open     High      Low    Close  \\\n",
       "2393  05.12.2022 06:00:00.000 GMT-0800  1.34242  1.35863  1.34231  1.35785   \n",
       "2394  05.12.2022 10:00:00.000 GMT-0800  1.35786  1.36064  1.35692  1.35922   \n",
       "2395  05.12.2022 14:00:00.000 GMT-0800  1.35923  1.35981  1.35718  1.35831   \n",
       "2396  05.12.2022 18:00:00.000 GMT-0800  1.35831  1.36016  1.35721  1.35861   \n",
       "2397  05.12.2022 22:00:00.000 GMT-0800  1.35860  1.36206  1.35824  1.36093   \n",
       "\n",
       "            Volume  \n",
       "2393  79103.300000  \n",
       "2394  44078.930000  \n",
       "2395   3836.416752  \n",
       "2396      0.033866  \n",
       "2397      0.039987  "
      ]
     },
     "execution_count": 1,
     "metadata": {},
     "output_type": "execute_result"
    }
   ],
   "source": [
    "import pandas as pd\n",
    "df = pd.read_csv(\"USDCAD_Candlestick_4_Hour_ASK_05.10.2021-05.12.2022.csv\")\n",
    "df.tail()"
   ]
  },
  {
   "cell_type": "markdown",
   "metadata": {},
   "source": [
    "## Drop data with zero volume"
   ]
  },
  {
   "cell_type": "code",
   "execution_count": 2,
   "metadata": {},
   "outputs": [],
   "source": [
    "indexZeros = df[ df['Volume'] == 0 ].index\n",
    "df.drop(indexZeros , inplace=True)"
   ]
  },
  {
   "cell_type": "markdown",
   "metadata": {},
   "source": [
    "## Calculate some technical indicators\n",
    "- ATR: Average True Range is a volatility indicator that provides a measure of price volatility. ATR is not used to indicate the direction of price. Rather, it is a metric used solely to measure volatility, especially volatility caused by price gaps or limit moves. Strong moves, in either direction, are often accompanied by large ranges, or large True Ranges.\n",
    "- RSI: Relative Strength Index is a momentum indicator that compares the magnitude of recent gains and losses over a specified time period to measure speed and change of price movements of a security. It is primarily used to attempt to identify overbought or oversold conditions in the trading of an asset. The RSI oscillates between 0 and 100. Traditionally, RSI is considered overbought when above 70 and oversold when below 30.\n",
    "- Midprice: average of bid price and ask price\n",
    "- SMA: Simple Moving Average is a trend indicator and the classic moving average that is the equally\n",
    "    weighted average over n periods. SMA usually calculates the average of a selected range of closing prices.  For example, you can find a stock's n-day SMA by adding its closing prices over n days, then dividing that number by n.\n"
   ]
  },
  {
   "cell_type": "code",
   "execution_count": 3,
   "metadata": {
    "scrolled": false
   },
   "outputs": [
    {
     "data": {
      "text/html": [
       "<div>\n",
       "<style scoped>\n",
       "    .dataframe tbody tr th:only-of-type {\n",
       "        vertical-align: middle;\n",
       "    }\n",
       "\n",
       "    .dataframe tbody tr th {\n",
       "        vertical-align: top;\n",
       "    }\n",
       "\n",
       "    .dataframe thead th {\n",
       "        text-align: right;\n",
       "    }\n",
       "</style>\n",
       "<table border=\"1\" class=\"dataframe\">\n",
       "  <thead>\n",
       "    <tr style=\"text-align: right;\">\n",
       "      <th></th>\n",
       "      <th>Local time</th>\n",
       "      <th>Open</th>\n",
       "      <th>High</th>\n",
       "      <th>Low</th>\n",
       "      <th>Close</th>\n",
       "      <th>Volume</th>\n",
       "      <th>ATR</th>\n",
       "      <th>RSI</th>\n",
       "      <th>Average</th>\n",
       "      <th>SMA20</th>\n",
       "      <th>SMA40</th>\n",
       "      <th>SMA80</th>\n",
       "    </tr>\n",
       "  </thead>\n",
       "  <tbody>\n",
       "    <tr>\n",
       "      <th>2393</th>\n",
       "      <td>05.12.2022 06:00:00.000 GMT-0800</td>\n",
       "      <td>1.34242</td>\n",
       "      <td>1.35863</td>\n",
       "      <td>1.34231</td>\n",
       "      <td>1.35785</td>\n",
       "      <td>79103.300000</td>\n",
       "      <td>0.005143</td>\n",
       "      <td>65.328530</td>\n",
       "      <td>1.350470</td>\n",
       "      <td>1.345454</td>\n",
       "      <td>1.345959</td>\n",
       "      <td>1.341626</td>\n",
       "    </tr>\n",
       "    <tr>\n",
       "      <th>2394</th>\n",
       "      <td>05.12.2022 10:00:00.000 GMT-0800</td>\n",
       "      <td>1.35786</td>\n",
       "      <td>1.36064</td>\n",
       "      <td>1.35692</td>\n",
       "      <td>1.35922</td>\n",
       "      <td>44078.930000</td>\n",
       "      <td>0.005072</td>\n",
       "      <td>66.485634</td>\n",
       "      <td>1.358780</td>\n",
       "      <td>1.345799</td>\n",
       "      <td>1.346624</td>\n",
       "      <td>1.342028</td>\n",
       "    </tr>\n",
       "    <tr>\n",
       "      <th>2395</th>\n",
       "      <td>05.12.2022 14:00:00.000 GMT-0800</td>\n",
       "      <td>1.35923</td>\n",
       "      <td>1.35981</td>\n",
       "      <td>1.35718</td>\n",
       "      <td>1.35831</td>\n",
       "      <td>3836.416752</td>\n",
       "      <td>0.004950</td>\n",
       "      <td>64.935436</td>\n",
       "      <td>1.358495</td>\n",
       "      <td>1.346038</td>\n",
       "      <td>1.347169</td>\n",
       "      <td>1.342356</td>\n",
       "    </tr>\n",
       "    <tr>\n",
       "      <th>2396</th>\n",
       "      <td>05.12.2022 18:00:00.000 GMT-0800</td>\n",
       "      <td>1.35831</td>\n",
       "      <td>1.36016</td>\n",
       "      <td>1.35721</td>\n",
       "      <td>1.35861</td>\n",
       "      <td>0.033866</td>\n",
       "      <td>0.004850</td>\n",
       "      <td>65.223316</td>\n",
       "      <td>1.358685</td>\n",
       "      <td>1.346541</td>\n",
       "      <td>1.347669</td>\n",
       "      <td>1.342674</td>\n",
       "    </tr>\n",
       "    <tr>\n",
       "      <th>2397</th>\n",
       "      <td>05.12.2022 22:00:00.000 GMT-0800</td>\n",
       "      <td>1.35860</td>\n",
       "      <td>1.36206</td>\n",
       "      <td>1.35824</td>\n",
       "      <td>1.36093</td>\n",
       "      <td>0.039987</td>\n",
       "      <td>0.004798</td>\n",
       "      <td>67.448981</td>\n",
       "      <td>1.360150</td>\n",
       "      <td>1.347507</td>\n",
       "      <td>1.348236</td>\n",
       "      <td>1.342999</td>\n",
       "    </tr>\n",
       "  </tbody>\n",
       "</table>\n",
       "</div>"
      ],
      "text/plain": [
       "                            Local time     Open     High      Low    Close  \\\n",
       "2393  05.12.2022 06:00:00.000 GMT-0800  1.34242  1.35863  1.34231  1.35785   \n",
       "2394  05.12.2022 10:00:00.000 GMT-0800  1.35786  1.36064  1.35692  1.35922   \n",
       "2395  05.12.2022 14:00:00.000 GMT-0800  1.35923  1.35981  1.35718  1.35831   \n",
       "2396  05.12.2022 18:00:00.000 GMT-0800  1.35831  1.36016  1.35721  1.35861   \n",
       "2397  05.12.2022 22:00:00.000 GMT-0800  1.35860  1.36206  1.35824  1.36093   \n",
       "\n",
       "            Volume       ATR        RSI   Average     SMA20     SMA40  \\\n",
       "2393  79103.300000  0.005143  65.328530  1.350470  1.345454  1.345959   \n",
       "2394  44078.930000  0.005072  66.485634  1.358780  1.345799  1.346624   \n",
       "2395   3836.416752  0.004950  64.935436  1.358495  1.346038  1.347169   \n",
       "2396      0.033866  0.004850  65.223316  1.358685  1.346541  1.347669   \n",
       "2397      0.039987  0.004798  67.448981  1.360150  1.347507  1.348236   \n",
       "\n",
       "         SMA80  \n",
       "2393  1.341626  \n",
       "2394  1.342028  \n",
       "2395  1.342356  \n",
       "2396  1.342674  \n",
       "2397  1.342999  "
      ]
     },
     "execution_count": 3,
     "metadata": {},
     "output_type": "execute_result"
    }
   ],
   "source": [
    "import numpy as np\n",
    "import pandas_ta as ta\n",
    "\n",
    "df['ATR'] = df.ta.atr(length=20)\n",
    "df['RSI'] = df.ta.rsi()\n",
    "df['Average'] = df.ta.midprice(length=1)\n",
    "df['SMA20'] = ta.sma(df['Close'],length=20)\n",
    "df['SMA40'] = ta.sma(df['Close'],length=40)\n",
    "df['SMA80'] = ta.sma(df['Close'],length=80)\n",
    "df.tail()"
   ]
  },
  {
   "cell_type": "markdown",
   "metadata": {},
   "source": [
    "## Calculate average slope of indicators to get trend of them"
   ]
  },
  {
   "cell_type": "code",
   "execution_count": 4,
   "metadata": {},
   "outputs": [
    {
     "data": {
      "text/html": [
       "<div>\n",
       "<style scoped>\n",
       "    .dataframe tbody tr th:only-of-type {\n",
       "        vertical-align: middle;\n",
       "    }\n",
       "\n",
       "    .dataframe tbody tr th {\n",
       "        vertical-align: top;\n",
       "    }\n",
       "\n",
       "    .dataframe thead th {\n",
       "        text-align: right;\n",
       "    }\n",
       "</style>\n",
       "<table border=\"1\" class=\"dataframe\">\n",
       "  <thead>\n",
       "    <tr style=\"text-align: right;\">\n",
       "      <th></th>\n",
       "      <th>Local time</th>\n",
       "      <th>Open</th>\n",
       "      <th>High</th>\n",
       "      <th>Low</th>\n",
       "      <th>Close</th>\n",
       "      <th>Volume</th>\n",
       "      <th>ATR</th>\n",
       "      <th>RSI</th>\n",
       "      <th>Average</th>\n",
       "      <th>SMA20</th>\n",
       "      <th>SMA40</th>\n",
       "      <th>SMA80</th>\n",
       "      <th>slopeSMA20</th>\n",
       "      <th>slopeSMA40</th>\n",
       "      <th>slopeSMA80</th>\n",
       "      <th>AverageSlope</th>\n",
       "      <th>RSISlope</th>\n",
       "    </tr>\n",
       "  </thead>\n",
       "  <tbody>\n",
       "    <tr>\n",
       "      <th>2393</th>\n",
       "      <td>05.12.2022 06:00:00.000 GMT-0800</td>\n",
       "      <td>1.34242</td>\n",
       "      <td>1.35863</td>\n",
       "      <td>1.34231</td>\n",
       "      <td>1.35785</td>\n",
       "      <td>79103.300000</td>\n",
       "      <td>0.005143</td>\n",
       "      <td>65.328530</td>\n",
       "      <td>1.350470</td>\n",
       "      <td>1.345454</td>\n",
       "      <td>1.345959</td>\n",
       "      <td>1.341626</td>\n",
       "      <td>-0.000726</td>\n",
       "      <td>0.000239</td>\n",
       "      <td>0.000202</td>\n",
       "      <td>0.000284</td>\n",
       "      <td>2.105077</td>\n",
       "    </tr>\n",
       "    <tr>\n",
       "      <th>2394</th>\n",
       "      <td>05.12.2022 10:00:00.000 GMT-0800</td>\n",
       "      <td>1.35786</td>\n",
       "      <td>1.36064</td>\n",
       "      <td>1.35692</td>\n",
       "      <td>1.35922</td>\n",
       "      <td>44078.930000</td>\n",
       "      <td>0.005072</td>\n",
       "      <td>66.485634</td>\n",
       "      <td>1.358780</td>\n",
       "      <td>1.345799</td>\n",
       "      <td>1.346624</td>\n",
       "      <td>1.342028</td>\n",
       "      <td>-0.000426</td>\n",
       "      <td>0.000350</td>\n",
       "      <td>0.000259</td>\n",
       "      <td>0.002939</td>\n",
       "      <td>5.357482</td>\n",
       "    </tr>\n",
       "    <tr>\n",
       "      <th>2395</th>\n",
       "      <td>05.12.2022 14:00:00.000 GMT-0800</td>\n",
       "      <td>1.35923</td>\n",
       "      <td>1.35981</td>\n",
       "      <td>1.35718</td>\n",
       "      <td>1.35831</td>\n",
       "      <td>3836.416752</td>\n",
       "      <td>0.004950</td>\n",
       "      <td>64.935436</td>\n",
       "      <td>1.358495</td>\n",
       "      <td>1.346038</td>\n",
       "      <td>1.347169</td>\n",
       "      <td>1.342356</td>\n",
       "      <td>-0.000141</td>\n",
       "      <td>0.000458</td>\n",
       "      <td>0.000312</td>\n",
       "      <td>0.004231</td>\n",
       "      <td>5.644408</td>\n",
       "    </tr>\n",
       "    <tr>\n",
       "      <th>2396</th>\n",
       "      <td>05.12.2022 18:00:00.000 GMT-0800</td>\n",
       "      <td>1.35831</td>\n",
       "      <td>1.36016</td>\n",
       "      <td>1.35721</td>\n",
       "      <td>1.35861</td>\n",
       "      <td>0.033866</td>\n",
       "      <td>0.004850</td>\n",
       "      <td>65.223316</td>\n",
       "      <td>1.358685</td>\n",
       "      <td>1.346541</td>\n",
       "      <td>1.347669</td>\n",
       "      <td>1.342674</td>\n",
       "      <td>0.000138</td>\n",
       "      <td>0.000532</td>\n",
       "      <td>0.000347</td>\n",
       "      <td>0.003950</td>\n",
       "      <td>4.588125</td>\n",
       "    </tr>\n",
       "    <tr>\n",
       "      <th>2397</th>\n",
       "      <td>05.12.2022 22:00:00.000 GMT-0800</td>\n",
       "      <td>1.35860</td>\n",
       "      <td>1.36206</td>\n",
       "      <td>1.35824</td>\n",
       "      <td>1.36093</td>\n",
       "      <td>0.039987</td>\n",
       "      <td>0.004798</td>\n",
       "      <td>67.448981</td>\n",
       "      <td>1.360150</td>\n",
       "      <td>1.347507</td>\n",
       "      <td>1.348236</td>\n",
       "      <td>1.342999</td>\n",
       "      <td>0.000410</td>\n",
       "      <td>0.000572</td>\n",
       "      <td>0.000356</td>\n",
       "      <td>0.003318</td>\n",
       "      <td>3.051620</td>\n",
       "    </tr>\n",
       "  </tbody>\n",
       "</table>\n",
       "</div>"
      ],
      "text/plain": [
       "                            Local time     Open     High      Low    Close  \\\n",
       "2393  05.12.2022 06:00:00.000 GMT-0800  1.34242  1.35863  1.34231  1.35785   \n",
       "2394  05.12.2022 10:00:00.000 GMT-0800  1.35786  1.36064  1.35692  1.35922   \n",
       "2395  05.12.2022 14:00:00.000 GMT-0800  1.35923  1.35981  1.35718  1.35831   \n",
       "2396  05.12.2022 18:00:00.000 GMT-0800  1.35831  1.36016  1.35721  1.35861   \n",
       "2397  05.12.2022 22:00:00.000 GMT-0800  1.35860  1.36206  1.35824  1.36093   \n",
       "\n",
       "            Volume       ATR        RSI   Average     SMA20     SMA40  \\\n",
       "2393  79103.300000  0.005143  65.328530  1.350470  1.345454  1.345959   \n",
       "2394  44078.930000  0.005072  66.485634  1.358780  1.345799  1.346624   \n",
       "2395   3836.416752  0.004950  64.935436  1.358495  1.346038  1.347169   \n",
       "2396      0.033866  0.004850  65.223316  1.358685  1.346541  1.347669   \n",
       "2397      0.039987  0.004798  67.448981  1.360150  1.347507  1.348236   \n",
       "\n",
       "         SMA80  slopeSMA20  slopeSMA40  slopeSMA80  AverageSlope  RSISlope  \n",
       "2393  1.341626   -0.000726    0.000239    0.000202      0.000284  2.105077  \n",
       "2394  1.342028   -0.000426    0.000350    0.000259      0.002939  5.357482  \n",
       "2395  1.342356   -0.000141    0.000458    0.000312      0.004231  5.644408  \n",
       "2396  1.342674    0.000138    0.000532    0.000347      0.003950  4.588125  \n",
       "2397  1.342999    0.000410    0.000572    0.000356      0.003318  3.051620  "
      ]
     },
     "execution_count": 4,
     "metadata": {},
     "output_type": "execute_result"
    }
   ],
   "source": [
    "from scipy.stats import linregress\n",
    "def get_slope(array):\n",
    "    y = np.array(array)\n",
    "    x = np.arange(len(y))\n",
    "    slope, intercept, r_value, p_value, std_err = linregress(x,y)\n",
    "    return slope\n",
    "\n",
    "backrollingN = 6\n",
    "\n",
    "df['slopeSMA20'] = df['SMA20'].rolling(window=backrollingN).apply(get_slope, raw=True)\n",
    "df['slopeSMA40'] = df['SMA40'].rolling(window=backrollingN).apply(get_slope, raw=True)\n",
    "df['slopeSMA80'] = df['SMA80'].rolling(window=backrollingN).apply(get_slope, raw=True)\n",
    "df['AverageSlope'] = df['Average'].rolling(window=backrollingN).apply(get_slope, raw=True)\n",
    "df['RSISlope'] = df['RSI'].rolling(window=backrollingN).apply(get_slope, raw=True)\n",
    "df.tail()"
   ]
  },
  {
   "attachments": {},
   "cell_type": "markdown",
   "metadata": {},
   "source": [
    "## Detect price trend\n"
   ]
  },
  {
   "attachments": {},
   "cell_type": "markdown",
   "metadata": {},
   "source": [
    "<!-- ![Screen%20Shot%202023-04-16%20at%208.47.50%20PM.png](attachment:Screen%20Shot%202023-04-16%20at%208.47.50%20PM.png -->\n",
    "\n",
    "<div>\n",
    "<img src=\"SL_TP.png\" width=\"800\"/>\n",
    "</div>"
   ]
  },
  {
   "cell_type": "code",
   "execution_count": 5,
   "metadata": {},
   "outputs": [],
   "source": [
    "takeProfit = 450*1e-5 \n",
    "SLTPRatio = 2 \n",
    "stopLoss = takeProfit / SLTPRatio\n",
    "\n",
    "def priceTrend(barsupfront, df1):\n",
    "    length = len(df1)\n",
    "    high = list(df1['High'])\n",
    "    low = list(df1['Low'])\n",
    "    close = list(df1['Close'])\n",
    "    open = list(df1['Open'])\n",
    "    trend = [None] * length\n",
    "    for line in range (0,length-barsupfront-2):\n",
    "        valueOpenLow = 0\n",
    "        valueOpenHigh = 0\n",
    "        for i in range(1,barsupfront+2):\n",
    "            value1 = open[line+1]-low[line+i]\n",
    "            value2 = open[line+1]-high[line+i]\n",
    "            valueOpenLow = max(value1, valueOpenLow)\n",
    "            valueOpenHigh = min(value2, valueOpenHigh) \n",
    "            if ( (valueOpenLow >= takeProfit) and (valueOpenHigh > (stopLoss)) ):\n",
    "                trend[line] = 1 # down trend\n",
    "                break\n",
    "            elif ( (valueOpenLow < (stopLoss)) and (valueOpenHigh <= takeProfit) ):\n",
    "                trend[line] = 2 # up trend\n",
    "                break\n",
    "            else:\n",
    "                trend[line] = 0 # no clear trend\n",
    "            \n",
    "    return trend"
   ]
  },
  {
   "cell_type": "code",
   "execution_count": 6,
   "metadata": {
    "scrolled": true
   },
   "outputs": [
    {
     "data": {
      "text/plain": [
       "2.0    1283\n",
       "0.0     500\n",
       "Name: priceTrend, dtype: int64"
      ]
     },
     "execution_count": 6,
     "metadata": {},
     "output_type": "execute_result"
    }
   ],
   "source": [
    "# priceTrend(number of future bars to consider, dataframe)\n",
    "df['priceTrend'] = priceTrend(16, df)\n",
    "df['priceTrend'].value_counts()\n",
    "# df.head()"
   ]
  },
  {
   "cell_type": "markdown",
   "metadata": {},
   "source": [
    "## Splitting covariates and response variable"
   ]
  },
  {
   "cell_type": "code",
   "execution_count": 7,
   "metadata": {},
   "outputs": [
    {
     "name": "stdout",
     "output_type": "stream",
     "text": [
      "           ATR        RSI   Average     SMA20     SMA40     SMA80  slopeSMA20  \\\n",
      "120   0.002786  47.012531  1.235260  1.234534  1.235752  1.242861    0.000036   \n",
      "121   0.002792  53.909082  1.236075  1.234704  1.235754  1.242570    0.000011   \n",
      "122   0.002853  59.533982  1.238070  1.234947  1.235818  1.242270    0.000048   \n",
      "123   0.002787  56.607870  1.238895  1.235133  1.235895  1.241973    0.000105   \n",
      "124   0.002707  54.997488  1.238220  1.235438  1.235981  1.241678    0.000184   \n",
      "...        ...        ...       ...       ...       ...       ...         ...   \n",
      "2363  0.004474  58.274386  1.354550  1.348299  1.342732  1.337840    0.001057   \n",
      "2364  0.004687  51.401595  1.352460  1.348798  1.342863  1.338113    0.000925   \n",
      "2365  0.004830  43.658539  1.342170  1.348966  1.342891  1.338289    0.000734   \n",
      "2366  0.004660  44.089826  1.342075  1.349126  1.342943  1.338490    0.000525   \n",
      "2367  0.004569  43.332093  1.341870  1.348857  1.342968  1.338683    0.000277   \n",
      "\n",
      "      slopeSMA40  slopeSMA80  AverageSlope  RSISlope  \n",
      "120    -0.000093   -0.000281      0.000261 -0.087634  \n",
      "121    -0.000066   -0.000285     -0.000155 -0.642584  \n",
      "122    -0.000031   -0.000291      0.000048  1.078081  \n",
      "123     0.000004   -0.000296      0.000506  2.055024  \n",
      "124     0.000040   -0.000296      0.000729  2.081014  \n",
      "...          ...         ...           ...       ...  \n",
      "2363    0.000275    0.000276     -0.001257 -1.972260  \n",
      "2364    0.000232    0.000280     -0.001273 -2.739845  \n",
      "2365    0.000179    0.000262     -0.002493 -3.718418  \n",
      "2366    0.000133    0.000244     -0.002962 -3.855746  \n",
      "2367    0.000090    0.000222     -0.002862 -3.390614  \n",
      "\n",
      "[1699 rows x 11 columns]\n"
     ]
    }
   ],
   "source": [
    "df=df.dropna()\n",
    "\n",
    "attributes=['ATR', 'RSI', 'Average', 'SMA20', 'SMA40', 'SMA80', 'slopeSMA20', 'slopeSMA40', 'slopeSMA80', 'AverageSlope', 'RSISlope']\n",
    "X = df[attributes]\n",
    "y = df[\"priceTrend\"]\n",
    "\n",
    "print(X)"
   ]
  },
  {
   "cell_type": "markdown",
   "metadata": {},
   "source": [
    "## Splitting data into training set and test set"
   ]
  },
  {
   "cell_type": "code",
   "execution_count": 8,
   "metadata": {},
   "outputs": [],
   "source": [
    "# note that data is time-series data\n",
    "train_index = int(0.8 * len(X))\n",
    "X_train, X_test = X[:train_index], X[train_index:]\n",
    "y_train, y_test = y[:train_index], y[train_index:]\n"
   ]
  },
  {
   "cell_type": "markdown",
   "metadata": {},
   "source": [
    "## Fitting of KNN model"
   ]
  },
  {
   "cell_type": "code",
   "execution_count": 9,
   "metadata": {},
   "outputs": [],
   "source": [
    "from sklearn.neighbors import KNeighborsClassifier\n",
    "from sklearn.metrics import accuracy_score\n",
    "model = KNeighborsClassifier(n_neighbors=20, weights='uniform', algorithm='kd_tree', leaf_size=30, p=1, metric='minkowski', metric_params=None, n_jobs=1)\n",
    "model.fit(X_train, y_train)\n",
    "\n",
    "y_pred_train = model.predict(X_train)\n",
    "y_pred_test = model.predict(X_test)"
   ]
  },
  {
   "cell_type": "markdown",
   "metadata": {},
   "source": [
    "## Evaluation of KNN model"
   ]
  },
  {
   "cell_type": "code",
   "execution_count": 10,
   "metadata": {},
   "outputs": [
    {
     "name": "stdout",
     "output_type": "stream",
     "text": [
      "KNN Model\n",
      "Accuracy train: 75.57%\n",
      "Accuracy test: 56.47%\n",
      "------------------------\n",
      "Random Model\n",
      "Accuracy Gambler: 35.88%\n"
     ]
    }
   ],
   "source": [
    "from sklearn.metrics import accuracy_score\n",
    "accuracy_train = accuracy_score(y_train, y_pred_train)\n",
    "accuracy_test = accuracy_score(y_test, y_pred_test)\n",
    "print(\"KNN Model\")\n",
    "print(\"Accuracy train: %.2f%%\" % (accuracy_train * 100.0))\n",
    "print(\"Accuracy test: %.2f%%\" % (accuracy_test * 100.0))\n",
    "\n",
    "\n",
    "# Random Model\n",
    "pred_test = np.random.choice([0, 1, 2], len(y_pred_test))\n",
    "accuracy_test = accuracy_score(y_test, pred_test)\n",
    "print('------------------------')\n",
    "print(\"Random Model\")\n",
    "print(\"Accuracy Gambler: %.2f%%\" % (accuracy_test * 100.0))"
   ]
  },
  {
   "cell_type": "markdown",
   "metadata": {},
   "source": [
    "##  XGBoost Model"
   ]
  },
  {
   "cell_type": "code",
   "execution_count": 11,
   "metadata": {},
   "outputs": [
    {
     "name": "stdout",
     "output_type": "stream",
     "text": [
      "XGBoost Model\n",
      "****Train Results****\n",
      "Accuracy: 100.0000%\n",
      "****Test Results****\n",
      "Accuracy: 39.1176%\n"
     ]
    }
   ],
   "source": [
    "from sklearn.preprocessing import LabelEncoder\n",
    "le = LabelEncoder()\n",
    "y_train = le.fit_transform(y_train)\n",
    "from xgboost import XGBClassifier\n",
    "model = XGBClassifier()\n",
    "model.fit(X_train, y_train)\n",
    "pred_train = model.predict(X_train)\n",
    "pred_test = model.predict(X_test)\n",
    "acc_train = accuracy_score(y_train, pred_train)\n",
    "acc_test = accuracy_score(y_test, pred_test)\n",
    "print('XGBoost Model')\n",
    "print('****Train Results****')\n",
    "print(\"Accuracy: {:.4%}\".format(acc_train))\n",
    "print('****Test Results****')\n",
    "print(\"Accuracy: {:.4%}\".format(acc_test))"
   ]
  },
  {
   "cell_type": "markdown",
   "metadata": {},
   "source": [
    "## Importance of covariates"
   ]
  },
  {
   "cell_type": "code",
   "execution_count": 13,
   "metadata": {},
   "outputs": [
    {
     "data": {
      "image/png": "[encoded data removed]",
      "text/plain": [
       "<Figure size 640x480 with 1 Axes>"
      ]
     },
     "metadata": {},
     "output_type": "display_data"
    }
   ],
   "source": [
    "from matplotlib import pyplot\n",
    "from xgboost import plot_importance\n",
    "\n",
    "plot_importance(model)\n",
    "pyplot.show()"
   ]
  },
  {
   "cell_type": "code",
   "execution_count": null,
   "metadata": {},
   "outputs": [],
   "source": []
  }
 ],
 "metadata": {
  "kernelspec": {
   "display_name": "Python 3 (ipykernel)",
   "language": "python",
   "name": "python3"
  },
  "language_info": {
   "codemirror_mode": {
    "name": "ipython",
    "version": 3
   },
   "file_extension": ".py",
   "mimetype": "text/x-python",
   "name": "python",
   "nbconvert_exporter": "python",
   "pygments_lexer": "ipython3",
   "version": "3.9.16"
  }
 },
 "nbformat": 4,
 "nbformat_minor": 2
}
